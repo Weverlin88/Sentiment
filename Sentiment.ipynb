{
  "nbformat": 4,
  "nbformat_minor": 0,
  "metadata": {
    "colab": {
      "provenance": [],
      "authorship_tag": "ABX9TyNIyshR8IYJGPp+FLhmh864",
      "include_colab_link": true
    },
    "kernelspec": {
      "name": "python3",
      "display_name": "Python 3"
    },
    "language_info": {
      "name": "python"
    }
  },
  "cells": [
    {
      "cell_type": "markdown",
      "metadata": {
        "id": "view-in-github",
        "colab_type": "text"
      },
      "source": [
        "<a href=\"https://colab.research.google.com/github/Weverlin88/Sentiment/blob/master/Sentiment.ipynb\" target=\"_parent\"><img src=\"https://colab.research.google.com/assets/colab-badge.svg\" alt=\"Open In Colab\"/></a>"
      ]
    },
    {
      "cell_type": "markdown",
      "source": [
        "Análise de Sentimentos\n",
        "Este notebook realiza uma Análise de Sentimentos em tweets utilizando o TextBlob. O objetivo é identificar se o sentimento expressado nos textos é positivo, negativo ou neutro, com base em uma pontuação que varia de <1 (negativo), >1 (positivo) e igual a 0 (neutro).\n",
        "\n"
      ],
      "metadata": {
        "id": "DDwlbCT9rvth"
      }
    },
    {
      "cell_type": "markdown",
      "source": [
        "Passo 1 – Instalando as bibliotecas"
      ],
      "metadata": {
        "id": "C-qIyskfr3wf"
      }
    },
    {
      "cell_type": "code",
      "source": [
        "!pip install -U textblob\n"
      ],
      "metadata": {
        "colab": {
          "base_uri": "https://localhost:8080/"
        },
        "id": "leBcM7O14eOF",
        "outputId": "b302588d-6ac8-4ca3-d243-8a77d3c862d5"
      },
      "execution_count": 1,
      "outputs": [
        {
          "output_type": "stream",
          "name": "stdout",
          "text": [
            "Requirement already satisfied: textblob in /usr/local/lib/python3.11/dist-packages (0.19.0)\n",
            "Requirement already satisfied: nltk>=3.9 in /usr/local/lib/python3.11/dist-packages (from textblob) (3.9.1)\n",
            "Requirement already satisfied: click in /usr/local/lib/python3.11/dist-packages (from nltk>=3.9->textblob) (8.2.0)\n",
            "Requirement already satisfied: joblib in /usr/local/lib/python3.11/dist-packages (from nltk>=3.9->textblob) (1.5.0)\n",
            "Requirement already satisfied: regex>=2021.8.3 in /usr/local/lib/python3.11/dist-packages (from nltk>=3.9->textblob) (2024.11.6)\n",
            "Requirement already satisfied: tqdm in /usr/local/lib/python3.11/dist-packages (from nltk>=3.9->textblob) (4.67.1)\n"
          ]
        }
      ]
    },
    {
      "cell_type": "markdown",
      "source": [
        "Passo 2: Importando as bibliotecas para análise de sentimento"
      ],
      "metadata": {
        "id": "S_nZ2v-E4jpc"
      }
    },
    {
      "cell_type": "code",
      "source": [
        "from textblob import TextBlob\n"
      ],
      "metadata": {
        "id": "fbt0dT-j4kd6"
      },
      "execution_count": 2,
      "outputs": []
    },
    {
      "cell_type": "markdown",
      "source": [
        "Passo 3: Definindo o texto inicial a ser analisado para validação"
      ],
      "metadata": {
        "id": "jKCW1X7X4q4p"
      }
    },
    {
      "cell_type": "code",
      "source": [
        "exemplo = \"This is a wonderful campsite. I loved the serenity and the birds chirping in the morning.\"\n",
        "blob = TextBlob(exemplo)\n",
        "\n",
        "print({\n",
        "    \"texto\": exemplo,\n",
        "    \"polaridade\": blob.sentiment.polarity,\n",
        "    \"subjetividade\": blob.sentiment.subjectivity\n",
        "})\n"
      ],
      "metadata": {
        "colab": {
          "base_uri": "https://localhost:8080/"
        },
        "id": "cnDSBLZO4wUU",
        "outputId": "c72d4c8a-a336-41ab-9b8b-e361cd969a6d"
      },
      "execution_count": 3,
      "outputs": [
        {
          "output_type": "stream",
          "name": "stdout",
          "text": [
            "{'texto': 'This is a wonderful campsite. I loved the serenity and the birds chirping in the morning.', 'polaridade': 0.85, 'subjetividade': 0.9}\n"
          ]
        }
      ]
    },
    {
      "cell_type": "markdown",
      "source": [
        "Passo 4: Definindo a lista de tweets a serem analisados"
      ],
      "metadata": {
        "id": "RlLFa-7g4zNc"
      }
    },
    {
      "cell_type": "code",
      "source": [
        "tweets = [\n",
        "    \"Bayer Leverkusen goalkeeper Bernd Leno will not be going to Napoli...\",\n",
        "    \"Gary Speed v Blackburn at St James in 2001/02 anyone? #NUFC #BEL #JAP #WorldCup\",\n",
        "    \"@ChelseaFC Don't make him regret it and start him over Hoofiz\",\n",
        "    \"@LiverpoolFF @AnfieldEdition He's a liar, made up...\",\n",
        "    \"@theesk @Everton Didn't realise Kenwright is due to leave...\",\n",
        "    \"@hasanshahbaz19 @LFC My knowledge has decreased somewhat...\",\n",
        "    \"Report: Linked with #Everton and #Wolves...\",\n",
        "    \"Am seeing tweets that there’s been a fall out @Everton...\",\n",
        "    \"@LFC @officialAL20 @IntChampionsCup @ManUtd Expect loads of excuses...\",\n",
        "    \"@MartinDiamond17... I’m just fine I have your fanbase angry...\",\n",
        "    \"What a weekend of football results! @ManUtd @Glentoran @RangersFC...\",\n",
        "    \"@ChelseaFC For the first time in a long while, my heart was relaxed...\",\n",
        "    \"@ChelseaFC @CesarAzpi What a fantastic signing...\",\n",
        "    \"Pogba scores, Pogba assists. But tomorrow papers won't be telling you this...\",\n",
        "    \"@WestHamUtd we need to keep @CH14_ and get @HirvingLozano70...\",\n",
        "    \"@kevdev9 @Everton Shouldn’t be happening!\",\n",
        "    \"@brfootball @aguerosergiokun @ManCity What a genius...\",\n",
        "    \"@HMZ0709 Can we get a RT for our #lfc Mo Salah Liverpool Enamel Pin Badge\"\n",
        "]\n"
      ],
      "metadata": {
        "id": "hJDES8-c42pr"
      },
      "execution_count": 4,
      "outputs": []
    },
    {
      "cell_type": "markdown",
      "source": [
        "Passo 5: Analisando os tweets"
      ],
      "metadata": {
        "id": "f-sS-3Tz45Z1"
      }
    },
    {
      "cell_type": "code",
      "source": [
        "resultados = {\n",
        "    \"positivo\": 0,\n",
        "    \"negativo\": 0,\n",
        "    \"neutro\": 0\n",
        "}\n",
        "\n",
        "for tweet in tweets:\n",
        "    blob = TextBlob(tweet)\n",
        "    polaridade = blob.sentiment.polarity\n",
        "\n",
        "    if polaridade > 0.1:\n",
        "        sentimento = \"positivo\"\n",
        "    elif polaridade < -0.1:\n",
        "        sentimento = \"negativo\"\n",
        "    else:\n",
        "        sentimento = \"neutro\"\n",
        "\n",
        "    resultados[sentimento] += 1\n",
        "\n",
        "    print(f\"Tweet: {tweet}\\nPolaridade: {polaridade:.2f} | Sentimento: {sentimento}\\n\")\n"
      ],
      "metadata": {
        "colab": {
          "base_uri": "https://localhost:8080/"
        },
        "id": "u0IH9ex-48zh",
        "outputId": "69adc5c0-ebef-44bf-88ab-a2c1de6fd8bc"
      },
      "execution_count": 6,
      "outputs": [
        {
          "output_type": "stream",
          "name": "stdout",
          "text": [
            "Tweet: Bayer Leverkusen goalkeeper Bernd Leno will not be going to Napoli...\n",
            "Polaridade: 0.00 | Sentimento: neutro\n",
            "\n",
            "Tweet: Gary Speed v Blackburn at St James in 2001/02 anyone? #NUFC #BEL #JAP #WorldCup\n",
            "Polaridade: 0.00 | Sentimento: neutro\n",
            "\n",
            "Tweet: @ChelseaFC Don't make him regret it and start him over Hoofiz\n",
            "Polaridade: 0.00 | Sentimento: neutro\n",
            "\n",
            "Tweet: @LiverpoolFF @AnfieldEdition He's a liar, made up...\n",
            "Polaridade: 0.00 | Sentimento: neutro\n",
            "\n",
            "Tweet: @theesk @Everton Didn't realise Kenwright is due to leave...\n",
            "Polaridade: -0.12 | Sentimento: negativo\n",
            "\n",
            "Tweet: @hasanshahbaz19 @LFC My knowledge has decreased somewhat...\n",
            "Polaridade: -0.40 | Sentimento: negativo\n",
            "\n",
            "Tweet: Report: Linked with #Everton and #Wolves...\n",
            "Polaridade: 0.00 | Sentimento: neutro\n",
            "\n",
            "Tweet: Am seeing tweets that there’s been a fall out @Everton...\n",
            "Polaridade: 0.00 | Sentimento: neutro\n",
            "\n",
            "Tweet: @LFC @officialAL20 @IntChampionsCup @ManUtd Expect loads of excuses...\n",
            "Polaridade: 0.00 | Sentimento: neutro\n",
            "\n",
            "Tweet: @MartinDiamond17... I’m just fine I have your fanbase angry...\n",
            "Polaridade: -0.04 | Sentimento: neutro\n",
            "\n",
            "Tweet: What a weekend of football results! @ManUtd @Glentoran @RangersFC...\n",
            "Polaridade: 0.00 | Sentimento: neutro\n",
            "\n",
            "Tweet: @ChelseaFC For the first time in a long while, my heart was relaxed...\n",
            "Polaridade: 0.10 | Sentimento: neutro\n",
            "\n",
            "Tweet: @ChelseaFC @CesarAzpi What a fantastic signing...\n",
            "Polaridade: 0.40 | Sentimento: positivo\n",
            "\n",
            "Tweet: Pogba scores, Pogba assists. But tomorrow papers won't be telling you this...\n",
            "Polaridade: 0.00 | Sentimento: neutro\n",
            "\n",
            "Tweet: @WestHamUtd we need to keep @CH14_ and get @HirvingLozano70...\n",
            "Polaridade: 0.00 | Sentimento: neutro\n",
            "\n",
            "Tweet: @kevdev9 @Everton Shouldn’t be happening!\n",
            "Polaridade: 0.00 | Sentimento: neutro\n",
            "\n",
            "Tweet: @brfootball @aguerosergiokun @ManCity What a genius...\n",
            "Polaridade: 0.00 | Sentimento: neutro\n",
            "\n",
            "Tweet: @HMZ0709 Can we get a RT for our #lfc Mo Salah Liverpool Enamel Pin Badge\n",
            "Polaridade: 0.00 | Sentimento: neutro\n",
            "\n"
          ]
        }
      ]
    }
  ]
}